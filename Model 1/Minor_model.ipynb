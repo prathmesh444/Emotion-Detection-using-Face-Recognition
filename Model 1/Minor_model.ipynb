{
 "cells": [
  {
   "cell_type": "code",
   "execution_count": 2,
   "id": "1f4d1fe8",
   "metadata": {},
   "outputs": [],
   "source": [
    "import numpy as np\n",
    "import cv2\n",
    "import os\n",
    "import tensorflow as tf\n",
    "import tensorflow_hub as hub\n",
    "from tensorflow import keras\n",
    "from tensorflow.keras.utils import load_img\n",
    "from tensorflow.keras import layers, models\n",
    "import pathlib\n",
    "import matplotlib.pyplot as plt\n",
    "%matplotlib inline"
   ]
  },
  {
   "cell_type": "code",
   "execution_count": 3,
   "id": "86e15424",
   "metadata": {},
   "outputs": [
    {
     "data": {
      "text/plain": [
       "WindowsPath('C:/Users/hp/images')"
      ]
     },
     "execution_count": 3,
     "metadata": {},
     "output_type": "execute_result"
    }
   ],
   "source": [
    "folder_path = \"C:/Users/hp/images\"\n",
    "#img = load_img(\"C:/Users/hp/images/train/fear\" + \"/\" + os.listdir(\"C:/Users/hp/images/train/fear\")[0])\n",
    "#plt.imshow(img)\n",
    "\n",
    "data_dir = pathlib.WindowsPath(folder_path)\n",
    "data_dir"
   ]
  },
  {
   "cell_type": "code",
   "execution_count": 4,
   "id": "f45b2eb5",
   "metadata": {},
   "outputs": [],
   "source": [
    "def generate_dataset(Type):\n",
    "    Emotion_dict = {\n",
    "        \"angry\": list(data_dir.glob(Type + '/angry/*.jpg'))[0:1000],\n",
    "        \"disgust\": list(data_dir.glob(Type + '/disgust/*.jpg')),\n",
    "        \"fear\": list(data_dir.glob(Type + '/fear/*.jpg'))[0:1000],\n",
    "        \"happy\": list(data_dir.glob(Type + '/happy/*.jpg'))[0:1000],\n",
    "        \"neutral\": list(data_dir.glob(Type + '/neutral/*.jpg'))[0:1000],\n",
    "        \"sad\": list(data_dir.glob(Type + '/sad/*.jpg'))[0:1000],\n",
    "        \"surprise\": list(data_dir.glob(Type + '/surprise/*.jpg'))[0:1000],\n",
    "    }\n",
    "\n",
    "    Emotion_label = {\n",
    "        \"angry\": 0,\n",
    "        \"disgust\": 1,\n",
    "        \"fear\": 2,\n",
    "        \"happy\": 3,\n",
    "        \"neutral\": 4,\n",
    "        \"sad\": 5,\n",
    "        \"surprise\": 6,\n",
    "    }\n",
    "    X, y = [], []\n",
    "\n",
    "    for emotion, images in Emotion_dict.items():\n",
    "        for image in images:\n",
    "            img = cv2.imread(str(image))\n",
    "            resized_img = cv2.resize(img, (224, 224))\n",
    "            X.append(resized_img)\n",
    "            y.append(Emotion_label[emotion])\n",
    "\n",
    "    X = np.array(X)\n",
    "    y = np.array(y)\n",
    "\n",
    "    return X, y"
   ]
  },
  {
   "cell_type": "code",
   "execution_count": 5,
   "id": "05bee288",
   "metadata": {},
   "outputs": [],
   "source": [
    "X_train, y_train = generate_dataset(\"train\")\n",
    "X_test, y_test = generate_dataset(\"validation\")"
   ]
  },
  {
   "cell_type": "code",
   "execution_count": 6,
   "id": "8c1aa7d9",
   "metadata": {},
   "outputs": [],
   "source": [
    "X_train = X_train / 255.0\n",
    "X_test = X_test/255.0"
   ]
  },
  {
   "cell_type": "code",
   "execution_count": 6,
   "id": "5eb0fa67",
   "metadata": {},
   "outputs": [
    {
     "name": "stdout",
     "output_type": "stream",
     "text": [
      "WARNING:tensorflow:Please fix your imports. Module tensorflow.python.training.tracking.data_structures has been moved to tensorflow.python.trackable.data_structures. The old module will be deleted in version 2.11.\n"
     ]
    }
   ],
   "source": [
    "classifier = tf.keras.Sequential([\n",
    "    hub.KerasLayer(\"https://tfhub.dev/google/tf2-preview/mobilenet_v2/feature_vector/4\",\n",
    "                   input_shape = (224, 224, 3),\n",
    "                   trainable = False)\n",
    "])\n",
    "\n",
    "classifier.build([None, 224, 224, 3])\n"
   ]
  },
  {
   "cell_type": "code",
   "execution_count": 13,
   "id": "e8fe9853",
   "metadata": {},
   "outputs": [
    {
     "data": {
      "text/plain": [
       "(224, 224, 3)"
      ]
     },
     "execution_count": 13,
     "metadata": {},
     "output_type": "execute_result"
    }
   ],
   "source": []
  },
  {
   "cell_type": "code",
   "execution_count": 12,
   "id": "0d51ce5c",
   "metadata": {},
   "outputs": [],
   "source": [
    "model = keras.models.Sequential([\n",
    "    layers.Conv2D(filters = 80,kernel_size = (3,3), activation = 'relu',input_shape = (224,224,3)),\n",
    "    layers.MaxPooling2D((2,2)),\n",
    "    layers.Conv2D(filters = 64, kernel_size = (3,3), activation = 'relu'),\n",
    "    layers.MaxPooling2D((2,2)),\n",
    "    \n",
    "    layers.Flatten(),\n",
    "    layers.Dense(100, activation = 'relu'),\n",
    "    layers.Dropout(0.5),\n",
    "    layers.Dense(40, activation = 'relu'),\n",
    "    layers.Dropout(0.3),\n",
    "    layers.Dense(7, activation = 'softmax'),\n",
    "])\n"
   ]
  },
  {
   "cell_type": "code",
   "execution_count": 13,
   "id": "d66c5f23",
   "metadata": {},
   "outputs": [],
   "source": [
    "model.compile(optimizer='adam', loss='sparse_categorical_crossentropy', metrics=['accuracy'])"
   ]
  },
  {
   "cell_type": "code",
   "execution_count": 14,
   "id": "26001aac",
   "metadata": {},
   "outputs": [],
   "source": [
    "tb_callback = tf.keras.callbacks.TensorBoard (\n",
    "    log_dir = \"logs/minor_model_9\",\n",
    "    histogram_freq = 2,\n",
    ")"
   ]
  },
  {
   "cell_type": "code",
   "execution_count": null,
   "id": "5bbaec7b",
   "metadata": {},
   "outputs": [
    {
     "name": "stdout",
     "output_type": "stream",
     "text": [
      "Epoch 1/4\n",
      "589/644 [==========================>...] - ETA: 43s - loss: 1.9616 - accuracy: 0.1567"
     ]
    }
   ],
   "source": [
    "model.fit( X_train, y_train, epochs=4, batch_size = 10, callbacks = [tb_callback])"
   ]
  },
  {
   "cell_type": "code",
   "execution_count": null,
   "id": "3dee321a",
   "metadata": {},
   "outputs": [],
   "source": [
    "model.save('black_box_6.h5')"
   ]
  },
  {
   "cell_type": "code",
   "execution_count": null,
   "id": "7d6eb436",
   "metadata": {},
   "outputs": [],
   "source": [
    "def accuracy(A):\n",
    "    count = 0\n",
    "    y_t = y_test[4000:5500]\n",
    "    for i in range(0, A.size):\n",
    "        if A[i] == y_t[i]:\n",
    "            count += 1\n",
    "    acc = (count/A.size*100)\n",
    "    return acc"
   ]
  },
  {
   "cell_type": "code",
   "execution_count": null,
   "id": "ecfd46cb",
   "metadata": {},
   "outputs": [],
   "source": [
    "y_pre = model.predict(X_test[4000:5000])\n"
   ]
  },
  {
   "cell_type": "code",
   "execution_count": null,
   "id": "2eb4c3d6",
   "metadata": {},
   "outputs": [],
   "source": [
    "y_predict = [np.argmax(i) for i in y_pre]\n",
    "y_predicted = np.array(y_predict)\n",
    "print(accuracy(y_predicted))"
   ]
  }
 ],
 "metadata": {
  "kernelspec": {
   "display_name": "Python 3 (ipykernel)",
   "language": "python",
   "name": "python3"
  },
  "language_info": {
   "codemirror_mode": {
    "name": "ipython",
    "version": 3
   },
   "file_extension": ".py",
   "mimetype": "text/x-python",
   "name": "python",
   "nbconvert_exporter": "python",
   "pygments_lexer": "ipython3",
   "version": "3.9.12"
  }
 },
 "nbformat": 4,
 "nbformat_minor": 5
}
